{
  "nbformat": 4,
  "nbformat_minor": 5,
  "metadata": {
    "kernelspec": {
      "display_name": "Python 3",
      "language": "python",
      "name": "python3"
    },
    "language_info": {
      "codemirror_mode": {
        "name": "ipython",
        "version": 3
      },
      "file_extension": ".py",
      "mimetype": "text/x-python",
      "name": "python",
      "nbconvert_exporter": "python",
      "pygments_lexer": "ipython3",
      "version": "3.8.8"
    },
    "colab": {
      "name": "ResNetModel-50Layers.ipynb",
      "provenance": []
    },
    "accelerator": "GPU"
  },
  "cells": [
    {
      "cell_type": "markdown",
      "metadata": {
        "id": "5ad6b42f"
      },
      "source": [
        "# Residual Networks"
      ],
      "id": "5ad6b42f"
    },
    {
      "cell_type": "markdown",
      "metadata": {
        "id": "afbf2452"
      },
      "source": [
        "Two main types of blocks are used in a ResNet, depending mainly on whether the input/output dimensions are same or different. You are going to implement both of them: the \"identity block\" and the \"convolutional block.\""
      ],
      "id": "afbf2452"
    },
    {
      "cell_type": "markdown",
      "metadata": {
        "id": "af36b8fd"
      },
      "source": [
        "## Load Packages"
      ],
      "id": "af36b8fd"
    },
    {
      "cell_type": "code",
      "metadata": {
        "id": "86e3b200"
      },
      "source": [
        "import numpy as np\n",
        "from keras import layers\n",
        "from keras.layers import Input, Add, Dense, Activation, ZeroPadding2D, BatchNormalization, Flatten, Conv2D, AveragePooling2D, MaxPooling2D\n",
        "from keras.models import Model, load_model\n",
        "from keras.preprocessing import image\n",
        "from keras.utils import layer_utils\n",
        "from keras.utils.data_utils import get_file\n",
        "from keras.applications.imagenet_utils import preprocess_input\n",
        "from keras.initializers import glorot_uniform\n",
        "from resnets_utils import *\n",
        "from matplotlib.pyplot import imshow\n",
        "%matplotlib inline"
      ],
      "id": "86e3b200",
      "execution_count": 1,
      "outputs": []
    },
    {
      "cell_type": "markdown",
      "metadata": {
        "id": "71299685"
      },
      "source": [
        "## Identity Block"
      ],
      "id": "71299685"
    },
    {
      "cell_type": "code",
      "metadata": {
        "id": "c822a66a"
      },
      "source": [
        "def identity_block(X, f, filters, stage, block):\n",
        "    \n",
        "    conv_name_base = 'res' + str(stage) + block + '_branch'\n",
        "    bn_name_base = 'bn' + str(stage) + block + '_branch'\n",
        "    \n",
        "    F1, F2, F3 = filters\n",
        "    \n",
        "    X_shortcut = X\n",
        "    \n",
        "    #first component of main path\n",
        "    X = Conv2D(filters = F1, kernel_size = (1,1), strides = (1,1), padding = 'valid', name = conv_name_base + '2a', kernel_initializer = glorot_uniform(seed=0))(X)\n",
        "    X = BatchNormalization(axis = 3, name = bn_name_base + '2a')(X)\n",
        "    X = Activation('relu')(X)\n",
        "    \n",
        "    #second component of main path\n",
        "    X = Conv2D(filters = F2, kernel_size = (f,f), strides = (1,1), padding = 'same', name = conv_name_base + '2b', kernel_initializer = glorot_uniform(seed=0))(X)\n",
        "    X = BatchNormalization(axis = 3, name = bn_name_base + '2b')(X)\n",
        "    X = Activation('relu')(X)\n",
        "    \n",
        "    #third component of main path\n",
        "    X = Conv2D(filters = F3, kernel_size = (1,1), strides = (1,1), padding = 'valid', name = conv_name_base + '2c', kernel_initializer = glorot_uniform(seed=0))(X)\n",
        "    X = BatchNormalization(axis = 3, name = bn_name_base + '2c')(X)\n",
        "    \n",
        "    #Final Step\n",
        "    X = Add()([X_shortcut,X])\n",
        "    X = Activation('relu')(X)\n",
        "    \n",
        "    return X"
      ],
      "id": "c822a66a",
      "execution_count": 2,
      "outputs": []
    },
    {
      "cell_type": "markdown",
      "metadata": {
        "id": "75cf223c"
      },
      "source": [
        "## Convolutional Block"
      ],
      "id": "75cf223c"
    },
    {
      "cell_type": "code",
      "metadata": {
        "id": "db4acb0c"
      },
      "source": [
        "def convolutional_block(X, f, filters, stage, block, s=2):\n",
        "    \n",
        "    conv_name_base = 'res' + str(stage) + block + '_branch'\n",
        "    bn_name_base = 'bn' + str(stage) + block + '_branch'\n",
        "    \n",
        "    F1, F2, F3 = filters\n",
        "    \n",
        "    X_shortcut = X\n",
        "    \n",
        "    #first component of main path\n",
        "    X = Conv2D(filters = F1, kernel_size = (1,1), strides = (s,s), padding = 'valid', name = conv_name_base + '2a', kernel_initializer = glorot_uniform(seed=0))(X)\n",
        "    X = BatchNormalization(axis = 3, name = bn_name_base + '2a')(X)\n",
        "    X = Activation('relu')(X)\n",
        "    \n",
        "    #second component of main path\n",
        "    X = Conv2D(filters = F2, kernel_size = (f,f), strides = (1,1), padding = 'same', name = conv_name_base + '2b', kernel_initializer = glorot_uniform(seed=0))(X)\n",
        "    X = BatchNormalization(axis = 3, name = bn_name_base + '2b')(X)\n",
        "    X = Activation('relu')(X)\n",
        "    \n",
        "    #third component of main path\n",
        "    X = Conv2D(filters = F3, kernel_size = (1,1), strides = (1,1), padding = 'valid', name = conv_name_base + '2c', kernel_initializer = glorot_uniform(seed=0))(X)\n",
        "    X = BatchNormalization(axis = 3, name = bn_name_base + '2c')(X)\n",
        "    \n",
        "    #Shortcut Path\n",
        "    X_shortcut = Conv2D(filters = F3, kernel_size = (1,1), strides = (s,s), padding = 'valid', name = conv_name_base + '1', kernel_initializer = glorot_uniform(seed=0))(X_shortcut)\n",
        "    X_shortcut = BatchNormalization(axis = 3, name = bn_name_base + '1')(X_shortcut)\n",
        "    \n",
        "    #Final Step\n",
        "    X = Add()([X, X_shortcut])\n",
        "    X = Activation('relu')(X)\n",
        "    \n",
        "    return X"
      ],
      "id": "db4acb0c",
      "execution_count": 3,
      "outputs": []
    },
    {
      "cell_type": "markdown",
      "metadata": {
        "id": "5fb3fbb1"
      },
      "source": [
        "## Building ResNet Model (50 Layers)"
      ],
      "id": "5fb3fbb1"
    },
    {
      "cell_type": "markdown",
      "metadata": {
        "id": "d82fd5a2"
      },
      "source": [
        "<img src=\"https://github.com/aitezazakhtar/ResNet50_SignDataset/blob/master/images/resnet_kiank.png?raw=1\" style=\"width:850px;height:150px;\">"
      ],
      "id": "d82fd5a2"
    },
    {
      "cell_type": "markdown",
      "metadata": {
        "id": "1944266c"
      },
      "source": [
        "The details of this ResNet-50 model are:\n",
        "- Zero-padding pads the input with a pad of (3,3)\n",
        "- Stage 1:\n",
        "    - The 2D Convolution has 64 filters of shape (7,7) and uses a stride of (2,2). Its name is \"conv1\".\n",
        "    - BatchNorm is applied to the 'channels' axis of the input.\n",
        "    - MaxPooling uses a (3,3) window and a (2,2) stride.\n",
        "- Stage 2:\n",
        "    - The convolutional block uses three sets of filters of size [64,64,256], \"f\" is 3, \"s\" is 1 and the block is \"a\".\n",
        "    - The 2 identity blocks use three sets of filters of size [64,64,256], \"f\" is 3 and the blocks are \"b\" and \"c\".\n",
        "- Stage 3:\n",
        "    - The convolutional block uses three sets of filters of size [128,128,512], \"f\" is 3, \"s\" is 2 and the block is \"a\".\n",
        "    - The 3 identity blocks use three sets of filters of size [128,128,512], \"f\" is 3 and the blocks are \"b\", \"c\" and \"d\".\n",
        "- Stage 4:\n",
        "    - The convolutional block uses three sets of filters of size [256, 256, 1024], \"f\" is 3, \"s\" is 2 and the block is \"a\".\n",
        "    - The 5 identity blocks use three sets of filters of size [256, 256, 1024], \"f\" is 3 and the blocks are \"b\", \"c\", \"d\", \"e\" and \"f\".\n",
        "- Stage 5:\n",
        "    - The convolutional block uses three sets of filters of size [512, 512, 2048], \"f\" is 3, \"s\" is 2 and the block is \"a\".\n",
        "    - The 2 identity blocks use three sets of filters of size [512, 512, 2048], \"f\" is 3 and the blocks are \"b\" and \"c\".\n",
        "- The 2D Average Pooling uses a window of shape (2,2) and its name is \"avg_pool\".\n",
        "- The 'flatten' layer doesn't have any hyperparameters or name.\n",
        "- The Fully Connected (Dense) layer reduces its input to the number of classes using a softmax activation. Its name should be `'fc' + str(classes)`."
      ],
      "id": "1944266c"
    },
    {
      "cell_type": "code",
      "metadata": {
        "id": "7a82a8a3"
      },
      "source": [
        "def ResNet50(input_shape, classes):\n",
        "    \n",
        "    X_input = Input(input_shape)\n",
        "    \n",
        "    #Zero Padding\n",
        "    X = ZeroPadding2D((3,3))(X_input)\n",
        "    \n",
        "    #Stage1\n",
        "    X = Conv2D(filters = 64, kernel_size = (7,7), strides = (2,2), name = 'conv1', kernel_initializer = glorot_uniform(seed=0))(X)\n",
        "    X = BatchNormalization(axis = 3, name = 'bn_conv1')(X)\n",
        "    X = MaxPooling2D((3,3), strides = (2,2))(X)\n",
        "    \n",
        "    #Stage2\n",
        "    X = convolutional_block(X, 3, [64,64,256], stage = 2, block = 'a', s = 1)\n",
        "    X = identity_block(X, 3, [64,64,256], stage = 2, block= 'b')\n",
        "    X = identity_block(X, 3, [64,64,256], stage = 2, block= 'c')\n",
        "    \n",
        "    #Stage3\n",
        "    X = convolutional_block(X, 3, [128,128,512], 3, 'a', 2)\n",
        "    X = identity_block(X, 3, [128,128,512], 3, 'b')\n",
        "    X = identity_block(X, 3, [128,128,512], 3, 'c')\n",
        "    X = identity_block(X, 3, [128,128,512], 3, 'd')\n",
        "    \n",
        "    #Stage4\n",
        "    X = convolutional_block(X, 3, [256,256,1024], 4, 'a', 2)\n",
        "    X = identity_block(X, 3, [256,256,1024], 4, 'b')\n",
        "    X = identity_block(X, 3, [256,256,1024], 4, 'c')\n",
        "    X = identity_block(X, 3, [256,256,1024], 4, 'd')\n",
        "    X = identity_block(X, 3, [256,256,1024], 4, 'e')\n",
        "    X = identity_block(X, 3, [256,256,1024], 4, 'f')\n",
        "    \n",
        "    #Stage5\n",
        "    X = convolutional_block(X, 3, [512,512,2048], 5, 'a', 2)\n",
        "    X = identity_block(X, 3, [512,512,2048], 5, 'b')\n",
        "    X = identity_block(X, 3, [512,512,2048], 5, 'c')\n",
        "    \n",
        "    #AveragePool\n",
        "    X = AveragePooling2D((2,2), padding = 'same')(X)\n",
        "    \n",
        "    #Output Layer\n",
        "    X = Flatten()(X)\n",
        "    X = Dense(classes, activation = 'softmax', name = 'fc' + str(classes), kernel_initializer = glorot_uniform(seed=0))(X)\n",
        "    \n",
        "    #Create Model\n",
        "    model = Model(inputs = X_input, outputs = X, name = 'ResNet50')\n",
        "    \n",
        "    return model"
      ],
      "id": "7a82a8a3",
      "execution_count": 4,
      "outputs": []
    },
    {
      "cell_type": "code",
      "metadata": {
        "id": "5f5b8080"
      },
      "source": [
        "model = ResNet50(input_shape = (64,64,3), classes = 6)"
      ],
      "id": "5f5b8080",
      "execution_count": 5,
      "outputs": []
    },
    {
      "cell_type": "code",
      "metadata": {
        "id": "43a6157f"
      },
      "source": [
        "model.compile(optimizer = 'adam', loss = 'categorical_crossentropy', metrics = ['accuracy'])"
      ],
      "id": "43a6157f",
      "execution_count": 6,
      "outputs": []
    },
    {
      "cell_type": "code",
      "metadata": {
        "colab": {
          "base_uri": "https://localhost:8080/"
        },
        "id": "b62a4aee",
        "outputId": "aa6dcaf7-fe91-44f6-c851-cab041dc68da"
      },
      "source": [
        "X_train_orig, Y_train_orig, X_test_orig, Y_test_orig, classes = load_dataset()\n",
        "\n",
        "# Normalize image vectors\n",
        "X_train = X_train_orig/255.\n",
        "X_test = X_test_orig/255.\n",
        "\n",
        "# Convert training and test labels to one hot matrices\n",
        "Y_train = convert_to_one_hot(Y_train_orig, 6).T\n",
        "Y_test = convert_to_one_hot(Y_test_orig, 6).T\n",
        "\n",
        "print (\"number of training examples = \" + str(X_train.shape[0]))\n",
        "print (\"number of test examples = \" + str(X_test.shape[0]))\n",
        "print (\"X_train shape: \" + str(X_train.shape))\n",
        "print (\"Y_train shape: \" + str(Y_train.shape))\n",
        "print (\"X_test shape: \" + str(X_test.shape))\n",
        "print (\"Y_test shape: \" + str(Y_test.shape))"
      ],
      "id": "b62a4aee",
      "execution_count": 7,
      "outputs": [
        {
          "output_type": "stream",
          "text": [
            "number of training examples = 1080\n",
            "number of test examples = 120\n",
            "X_train shape: (1080, 64, 64, 3)\n",
            "Y_train shape: (1080, 6)\n",
            "X_test shape: (120, 64, 64, 3)\n",
            "Y_test shape: (120, 6)\n"
          ],
          "name": "stdout"
        }
      ]
    },
    {
      "cell_type": "code",
      "metadata": {
        "colab": {
          "base_uri": "https://localhost:8080/"
        },
        "id": "2254b341",
        "outputId": "1e29faeb-1ba1-4357-b14e-78a7dd7c9874"
      },
      "source": [
        "model.fit(X_train, Y_train, epochs = 50, batch_size = 32)"
      ],
      "id": "2254b341",
      "execution_count": 8,
      "outputs": [
        {
          "output_type": "stream",
          "text": [
            "Epoch 1/50\n",
            "34/34 [==============================] - 34s 89ms/step - loss: 2.7550 - accuracy: 0.3833\n",
            "Epoch 2/50\n",
            "34/34 [==============================] - 2s 61ms/step - loss: 0.7342 - accuracy: 0.7601\n",
            "Epoch 3/50\n",
            "34/34 [==============================] - 2s 61ms/step - loss: 0.4616 - accuracy: 0.8489\n",
            "Epoch 4/50\n",
            "34/34 [==============================] - 2s 61ms/step - loss: 0.3903 - accuracy: 0.8994\n",
            "Epoch 5/50\n",
            "34/34 [==============================] - 2s 61ms/step - loss: 0.1803 - accuracy: 0.9495\n",
            "Epoch 6/50\n",
            "34/34 [==============================] - 2s 61ms/step - loss: 0.1014 - accuracy: 0.9664\n",
            "Epoch 7/50\n",
            "34/34 [==============================] - 2s 61ms/step - loss: 0.1133 - accuracy: 0.9609\n",
            "Epoch 8/50\n",
            "34/34 [==============================] - 2s 61ms/step - loss: 0.1504 - accuracy: 0.9557\n",
            "Epoch 9/50\n",
            "34/34 [==============================] - 2s 61ms/step - loss: 0.1718 - accuracy: 0.9416\n",
            "Epoch 10/50\n",
            "34/34 [==============================] - 2s 61ms/step - loss: 0.1152 - accuracy: 0.9691\n",
            "Epoch 11/50\n",
            "34/34 [==============================] - 2s 61ms/step - loss: 0.1350 - accuracy: 0.9651\n",
            "Epoch 12/50\n",
            "34/34 [==============================] - 2s 61ms/step - loss: 0.1109 - accuracy: 0.9760\n",
            "Epoch 13/50\n",
            "34/34 [==============================] - 2s 61ms/step - loss: 0.0533 - accuracy: 0.9773\n",
            "Epoch 14/50\n",
            "34/34 [==============================] - 2s 62ms/step - loss: 0.0314 - accuracy: 0.9867\n",
            "Epoch 15/50\n",
            "34/34 [==============================] - 2s 61ms/step - loss: 0.0451 - accuracy: 0.9875\n",
            "Epoch 16/50\n",
            "34/34 [==============================] - 2s 61ms/step - loss: 0.0653 - accuracy: 0.9774\n",
            "Epoch 17/50\n",
            "34/34 [==============================] - 2s 61ms/step - loss: 0.0449 - accuracy: 0.9880\n",
            "Epoch 18/50\n",
            "34/34 [==============================] - 2s 61ms/step - loss: 0.0651 - accuracy: 0.9809\n",
            "Epoch 19/50\n",
            "34/34 [==============================] - 2s 61ms/step - loss: 0.4306 - accuracy: 0.9030\n",
            "Epoch 20/50\n",
            "34/34 [==============================] - 2s 61ms/step - loss: 0.2336 - accuracy: 0.9291\n",
            "Epoch 21/50\n",
            "34/34 [==============================] - 2s 61ms/step - loss: 0.0406 - accuracy: 0.9851\n",
            "Epoch 22/50\n",
            "34/34 [==============================] - 2s 61ms/step - loss: 0.0153 - accuracy: 0.9933\n",
            "Epoch 23/50\n",
            "34/34 [==============================] - 2s 61ms/step - loss: 0.1341 - accuracy: 0.9805\n",
            "Epoch 24/50\n",
            "34/34 [==============================] - 2s 61ms/step - loss: 0.0536 - accuracy: 0.9835\n",
            "Epoch 25/50\n",
            "34/34 [==============================] - 2s 61ms/step - loss: 0.1066 - accuracy: 0.9813\n",
            "Epoch 26/50\n",
            "34/34 [==============================] - 2s 61ms/step - loss: 0.0257 - accuracy: 0.9914\n",
            "Epoch 27/50\n",
            "34/34 [==============================] - 2s 61ms/step - loss: 0.0160 - accuracy: 0.9965\n",
            "Epoch 28/50\n",
            "34/34 [==============================] - 2s 61ms/step - loss: 0.0027 - accuracy: 0.9986\n",
            "Epoch 29/50\n",
            "34/34 [==============================] - 2s 60ms/step - loss: 0.0216 - accuracy: 0.9955\n",
            "Epoch 30/50\n",
            "34/34 [==============================] - 2s 61ms/step - loss: 0.0200 - accuracy: 0.9968\n",
            "Epoch 31/50\n",
            "34/34 [==============================] - 2s 61ms/step - loss: 0.0069 - accuracy: 0.9981\n",
            "Epoch 32/50\n",
            "34/34 [==============================] - 2s 60ms/step - loss: 0.0100 - accuracy: 0.9958\n",
            "Epoch 33/50\n",
            "34/34 [==============================] - 2s 61ms/step - loss: 0.0015 - accuracy: 0.9995\n",
            "Epoch 34/50\n",
            "34/34 [==============================] - 2s 60ms/step - loss: 0.0127 - accuracy: 0.9950\n",
            "Epoch 35/50\n",
            "34/34 [==============================] - 2s 61ms/step - loss: 0.0013 - accuracy: 1.0000\n",
            "Epoch 36/50\n",
            "34/34 [==============================] - 2s 60ms/step - loss: 5.3134e-04 - accuracy: 1.0000\n",
            "Epoch 37/50\n",
            "34/34 [==============================] - 2s 61ms/step - loss: 1.2524e-04 - accuracy: 1.0000\n",
            "Epoch 38/50\n",
            "34/34 [==============================] - 2s 61ms/step - loss: 1.9491e-04 - accuracy: 1.0000\n",
            "Epoch 39/50\n",
            "34/34 [==============================] - 2s 61ms/step - loss: 3.3488e-04 - accuracy: 1.0000\n",
            "Epoch 40/50\n",
            "34/34 [==============================] - 2s 60ms/step - loss: 9.5543e-05 - accuracy: 1.0000\n",
            "Epoch 41/50\n",
            "34/34 [==============================] - 2s 60ms/step - loss: 7.2115e-05 - accuracy: 1.0000\n",
            "Epoch 42/50\n",
            "34/34 [==============================] - 2s 61ms/step - loss: 1.0688e-04 - accuracy: 1.0000\n",
            "Epoch 43/50\n",
            "34/34 [==============================] - 2s 61ms/step - loss: 1.3373e-04 - accuracy: 1.0000\n",
            "Epoch 44/50\n",
            "34/34 [==============================] - 2s 60ms/step - loss: 6.0957e-05 - accuracy: 1.0000\n",
            "Epoch 45/50\n",
            "34/34 [==============================] - 2s 61ms/step - loss: 3.6275e-05 - accuracy: 1.0000\n",
            "Epoch 46/50\n",
            "34/34 [==============================] - 2s 60ms/step - loss: 1.6980e-04 - accuracy: 1.0000\n",
            "Epoch 47/50\n",
            "34/34 [==============================] - 2s 61ms/step - loss: 1.0514e-04 - accuracy: 1.0000\n",
            "Epoch 48/50\n",
            "34/34 [==============================] - 2s 61ms/step - loss: 4.9486e-05 - accuracy: 1.0000\n",
            "Epoch 49/50\n",
            "34/34 [==============================] - 2s 61ms/step - loss: 4.9752e-05 - accuracy: 1.0000\n",
            "Epoch 50/50\n",
            "34/34 [==============================] - 2s 61ms/step - loss: 3.2582e-05 - accuracy: 1.0000\n"
          ],
          "name": "stdout"
        },
        {
          "output_type": "execute_result",
          "data": {
            "text/plain": [
              "<keras.callbacks.History at 0x7fdfdc21a510>"
            ]
          },
          "metadata": {
            "tags": []
          },
          "execution_count": 8
        }
      ]
    },
    {
      "cell_type": "code",
      "metadata": {
        "colab": {
          "base_uri": "https://localhost:8080/"
        },
        "id": "ec3b1a58",
        "outputId": "973c5b42-4c2a-43a7-89fc-f7eb4b72f12d"
      },
      "source": [
        "preds = model.evaluate(X_test, Y_test)"
      ],
      "id": "ec3b1a58",
      "execution_count": 9,
      "outputs": [
        {
          "output_type": "stream",
          "text": [
            "4/4 [==============================] - 4s 29ms/step - loss: 0.1299 - accuracy: 0.9667\n"
          ],
          "name": "stdout"
        }
      ]
    }
  ]
}