{
 "cells": [
  {
   "cell_type": "markdown",
   "id": "5ad6b42f",
   "metadata": {},
   "source": [
    "# Residual Networks"
   ]
  },
  {
   "cell_type": "markdown",
   "id": "afbf2452",
   "metadata": {},
   "source": [
    "Two main types of blocks are used in a ResNet, depending mainly on whether the input/output dimensions are same or different. You are going to implement both of them: the \"identity block\" and the \"convolutional block.\""
   ]
  },
  {
   "cell_type": "markdown",
   "id": "af36b8fd",
   "metadata": {},
   "source": [
    "## Load Packages"
   ]
  },
  {
   "cell_type": "code",
   "execution_count": 1,
   "id": "86e3b200",
   "metadata": {},
   "outputs": [],
   "source": [
    "import numpy as np\n",
    "from keras import layers\n",
    "from keras.layers import Input, Add, Dense, Activation, ZeroPadding2D, BatchNormalization, Flatten, Conv2D, AveragePooling2D, MaxPooling2D\n",
    "from keras.models import Model, load_model\n",
    "from keras.preprocessing import image\n",
    "from keras.utils import layer_utils\n",
    "from keras.utils.data_utils import get_file\n",
    "from keras.applications.imagenet_utils import preprocess_input\n",
    "from keras.initializers import glorot_uniform\n",
    "from resnets_utils import *\n",
    "from matplotlib.pyplot import imshow\n",
    "%matplotlib inline"
   ]
  },
  {
   "cell_type": "markdown",
   "id": "71299685",
   "metadata": {},
   "source": [
    "## Identity Block"
   ]
  },
  {
   "cell_type": "code",
   "execution_count": 2,
   "id": "c822a66a",
   "metadata": {},
   "outputs": [],
   "source": [
    "def identity_block(X, f, filters, stage, block):\n",
    "    \n",
    "    conv_name_base = 'res' + str(stage) + block + '_branch'\n",
    "    bn_name_base = 'bn' + str(stage) + block + '_branch'\n",
    "    \n",
    "    F1, F2, F3 = filters\n",
    "    \n",
    "    X_shortcut = X\n",
    "    \n",
    "    #first component of main path\n",
    "    X = Conv2D(filters = F1, kernel_size = (1,1), strides = (1,1), padding = 'valid', name = conv_name_base + '2a', kernel_initializer = glorot_uniform(seed=0))(X)\n",
    "    X = BatchNormalization(axis = 3, name = bn_name_base + '2a')(X)\n",
    "    X = Activation('relu')(X)\n",
    "    \n",
    "    #second component of main path\n",
    "    X = Conv2D(filters = F2, kernel_size = (f,f), strides = (1,1), padding = 'same', name = conv_name_base + '2b', kernel_initializer = glorot_uniform(seed=0))(X)\n",
    "    X = BatchNormalization(axis = 3, name = bn_name_base + '2b')(X)\n",
    "    X = Activation('relu')(X)\n",
    "    \n",
    "    #third component of main path\n",
    "    X = Conv2D(filters = F3, kernel_size = (1,1), strides = (1,1), padding = 'valid', name = conv_name_base + '2c', kernel_initializer = glorot_uniform(seed=0))(X)\n",
    "    X = BatchNormalization(axis = 3, name = bn_name_base + '2c')(X)\n",
    "    \n",
    "    #Final Step\n",
    "    X = Add()([X, X_shortcut])\n",
    "    X = Activation('relu')(X)\n",
    "    \n",
    "    return X"
   ]
  },
  {
   "cell_type": "markdown",
   "id": "75cf223c",
   "metadata": {},
   "source": [
    "## Convolutional Block"
   ]
  },
  {
   "cell_type": "code",
   "execution_count": 3,
   "id": "db4acb0c",
   "metadata": {},
   "outputs": [],
   "source": [
    "def convolutional_block(X, f, filters, stage, block, s=2):\n",
    "    \n",
    "    conv_name_base = 'res' + str(stage) + block + '_branch'\n",
    "    bn_name_base = 'bn' + str(stage) + block + '_branch'\n",
    "    \n",
    "    F1, F2, F3 = filters\n",
    "    \n",
    "    X_shortcut = X\n",
    "    \n",
    "    #first component of main path\n",
    "    X = Conv2D(filters = F1, kernel_size = (1,1), strides = (s,s), padding = 'valid', name = conv_name_base + '2a', kernel_initializer = glorot_uniform(seed=0))(X)\n",
    "    X = BatchNormalization(axis = 3, name = bn_name_base + '2a')(X)\n",
    "    X = Activation('relu')(X)\n",
    "    \n",
    "    #second component of main path\n",
    "    X = Conv2D(filters = F2, kernel_size = (f,f), strides = (1,1), padding = 'same', name = conv_name_base + '2b', kernel_initializer = glorot_uniform(seed=0))(X)\n",
    "    X = BatchNormalization(axis = 3, name = bn_name_base + '2b')(X)\n",
    "    X = Activation('relu')(X)\n",
    "    \n",
    "    #third component of main path\n",
    "    X = Conv2D(filters = F3, kernel_size = (1,1), strides = (1,1), padding = 'valid', name = conv_name_base + '2c', kernel_initializer = glorot_uniform(seed=0))(X)\n",
    "    X = BatchNormalization(axis = 3, name = bn_name_base + '2c')(X)\n",
    "    \n",
    "    #Shortcut Path\n",
    "    X_shortcut = Conv2D(filters = F3, kernel_size = (1,1), strides = (s,s), padding = 'valid', name = conv_name_base + '1', kernel_initializer = glorot_uniform(seed=0))(X_shortcut)\n",
    "    X_shortcut = BatchNormalization(axis = 3, name = bn_name_base + '1')(X_shortcut)\n",
    "    \n",
    "    #Final Step\n",
    "    X = Add()([X, X_shortcut])\n",
    "    X = Activation('relu')(X)\n",
    "    \n",
    "    return X"
   ]
  },
  {
   "cell_type": "markdown",
   "id": "5fb3fbb1",
   "metadata": {},
   "source": [
    "## Building ResNet Model (50 Layers)"
   ]
  },
  {
   "cell_type": "markdown",
   "id": "d82fd5a2",
   "metadata": {},
   "source": [
    "<img src=\"images/resnet_kiank.png\" style=\"width:850px;height:150px;\">"
   ]
  },
  {
   "cell_type": "markdown",
   "id": "1944266c",
   "metadata": {},
   "source": [
    "The details of this ResNet-50 model are:\n",
    "- Zero-padding pads the input with a pad of (3,3)\n",
    "- Stage 1:\n",
    "    - The 2D Convolution has 64 filters of shape (7,7) and uses a stride of (2,2). Its name is \"conv1\".\n",
    "    - BatchNorm is applied to the 'channels' axis of the input.\n",
    "    - MaxPooling uses a (3,3) window and a (2,2) stride.\n",
    "- Stage 2:\n",
    "    - The convolutional block uses three sets of filters of size [64,64,256], \"f\" is 3, \"s\" is 1 and the block is \"a\".\n",
    "    - The 2 identity blocks use three sets of filters of size [64,64,256], \"f\" is 3 and the blocks are \"b\" and \"c\".\n",
    "- Stage 3:\n",
    "    - The convolutional block uses three sets of filters of size [128,128,512], \"f\" is 3, \"s\" is 2 and the block is \"a\".\n",
    "    - The 3 identity blocks use three sets of filters of size [128,128,512], \"f\" is 3 and the blocks are \"b\", \"c\" and \"d\".\n",
    "- Stage 4:\n",
    "    - The convolutional block uses three sets of filters of size [256, 256, 1024], \"f\" is 3, \"s\" is 2 and the block is \"a\".\n",
    "    - The 5 identity blocks use three sets of filters of size [256, 256, 1024], \"f\" is 3 and the blocks are \"b\", \"c\", \"d\", \"e\" and \"f\".\n",
    "- Stage 5:\n",
    "    - The convolutional block uses three sets of filters of size [512, 512, 2048], \"f\" is 3, \"s\" is 2 and the block is \"a\".\n",
    "    - The 2 identity blocks use three sets of filters of size [512, 512, 2048], \"f\" is 3 and the blocks are \"b\" and \"c\".\n",
    "- The 2D Average Pooling uses a window of shape (2,2) and its name is \"avg_pool\".\n",
    "- The 'flatten' layer doesn't have any hyperparameters or name.\n",
    "- The Fully Connected (Dense) layer reduces its input to the number of classes using a softmax activation. Its name should be `'fc' + str(classes)`."
   ]
  },
  {
   "cell_type": "code",
   "execution_count": 4,
   "id": "7a82a8a3",
   "metadata": {},
   "outputs": [],
   "source": [
    "def ResNet50(input_shape, classes):\n",
    "    \n",
    "    X_input = Input(input_shape)\n",
    "    \n",
    "    #Zero Padding\n",
    "    X = ZeroPadding2D((3,3))(X_input)\n",
    "    \n",
    "    #Stage1\n",
    "    X = Conv2D(filters = 64, kernel_size = (7,7), strides = (2,2), name = 'conv1', kernel_initializer = glorot_uniform(seed=0))(X)\n",
    "    X = BatchNormalization(axis = 3, name = 'bn_conv1')(X)\n",
    "    X = MaxPooling2D(pool_size = (3,3), strides = (2,2))(X)\n",
    "    \n",
    "    #Stage2\n",
    "    X = convolutional_block(X, 3, [64,64,256], stage = 2, block = 'a', s = 1)\n",
    "    X = identity_block(X, 3, [64,64,256], stage = 2, block= 'b')\n",
    "    X = identity_block(X, 3, [64,64,256], stage = 2, block= 'c')\n",
    "    \n",
    "    #Stage3\n",
    "    X = convolutional_block(X, 3, [128,128,512], 3, 'a', 2)\n",
    "    X = identity_block(X, 3, [128,128,512], 3, 'b')\n",
    "    X = identity_block(X, 3, [128,128,512], 3, 'c')\n",
    "    X = identity_block(X, 3, [128,128,512], 3, 'd')\n",
    "    \n",
    "    #Stage4\n",
    "    X = convolutional_block(X, 3, [256,256,1024], 4, 'a', 2)\n",
    "    X = identity_block(X, 3, [256,256,1024], 4, 'b')\n",
    "    X = identity_block(X, 3, [256,256,1024], 4, 'c')\n",
    "    X = identity_block(X, 3, [256,256,1024], 4, 'd')\n",
    "    X = identity_block(X, 3, [256,256,1024], 4, 'e')\n",
    "    X = identity_block(X, 3, [256,256,1024], 4, 'f')\n",
    "    \n",
    "    #Stage5\n",
    "    X = convolutional_block(X, 3, [512,512,2048], 5, 'a', 2)\n",
    "    X = identity_block(X, 3, [512,512,2048], 5, 'b')\n",
    "    X = identity_block(X, 3, [512,512,2048], 5, 'c')\n",
    "    \n",
    "    #AveragePool\n",
    "    X = AveragePooling2D(pool_size = (2,2), name = 'avg_pool')(X)\n",
    "    \n",
    "    #Output Layer\n",
    "    X = Flatten()(X)\n",
    "    X = Dense(classes, activation = 'sigmoid', name = 'fc' + str(classes), kernel_initializer = glorot_uniform(seed=0))(X)\n",
    "    \n",
    "    #Create Model\n",
    "    model = Model(inputs = X_input, outputs = X, name = 'ResNet50')\n",
    "    \n",
    "    return model"
   ]
  },
  {
   "cell_type": "code",
   "execution_count": 5,
   "id": "5f5b8080",
   "metadata": {},
   "outputs": [],
   "source": [
    "model = ResNet50(input_shape = (64,64,3), classes = 6)"
   ]
  },
  {
   "cell_type": "code",
   "execution_count": 6,
   "id": "43a6157f",
   "metadata": {},
   "outputs": [],
   "source": [
    "model.compile(optimizer = 'adam', loss = 'categorical_crossentropy', metrics = ['accuracy'])"
   ]
  },
  {
   "cell_type": "code",
   "execution_count": 7,
   "id": "b62a4aee",
   "metadata": {},
   "outputs": [
    {
     "name": "stdout",
     "output_type": "stream",
     "text": [
      "number of training examples = 1080\n",
      "number of test examples = 120\n",
      "X_train shape: (1080, 64, 64, 3)\n",
      "Y_train shape: (1080, 6)\n",
      "X_test shape: (120, 64, 64, 3)\n",
      "Y_test shape: (120, 6)\n"
     ]
    }
   ],
   "source": [
    "X_train_orig, Y_train_orig, X_test_orig, Y_test_orig, classes = load_dataset()\n",
    "\n",
    "# Normalize image vectors\n",
    "X_train = X_train_orig/255.\n",
    "X_test = X_test_orig/255.\n",
    "\n",
    "# Convert training and test labels to one hot matrices\n",
    "Y_train = convert_to_one_hot(Y_train_orig, 6).T\n",
    "Y_test = convert_to_one_hot(Y_test_orig, 6).T\n",
    "\n",
    "print (\"number of training examples = \" + str(X_train.shape[0]))\n",
    "print (\"number of test examples = \" + str(X_test.shape[0]))\n",
    "print (\"X_train shape: \" + str(X_train.shape))\n",
    "print (\"Y_train shape: \" + str(Y_train.shape))\n",
    "print (\"X_test shape: \" + str(X_test.shape))\n",
    "print (\"Y_test shape: \" + str(Y_test.shape))"
   ]
  },
  {
   "cell_type": "code",
   "execution_count": 8,
   "id": "2254b341",
   "metadata": {},
   "outputs": [
    {
     "name": "stdout",
     "output_type": "stream",
     "text": [
      "Epoch 1/10\n",
      "34/34 [==============================] - 93s 2s/step - loss: 2.7506 - accuracy: 0.3141\n",
      "Epoch 2/10\n",
      "34/34 [==============================] - 56s 2s/step - loss: 0.7378 - accuracy: 0.7460\n",
      "Epoch 3/10\n",
      "34/34 [==============================] - 58s 2s/step - loss: 1.1865 - accuracy: 0.5870\n",
      "Epoch 4/10\n",
      "34/34 [==============================] - 55s 2s/step - loss: 0.3545 - accuracy: 0.8738\n",
      "Epoch 5/10\n",
      "34/34 [==============================] - 61s 2s/step - loss: 0.2102 - accuracy: 0.9306\n",
      "Epoch 6/10\n",
      "34/34 [==============================] - 58s 2s/step - loss: 0.1017 - accuracy: 0.9629\n",
      "Epoch 7/10\n",
      "34/34 [==============================] - 59s 2s/step - loss: 0.3186 - accuracy: 0.9095\n",
      "Epoch 8/10\n",
      "34/34 [==============================] - 55s 2s/step - loss: 0.1501 - accuracy: 0.9508\n",
      "Epoch 9/10\n",
      "34/34 [==============================] - 55s 2s/step - loss: 0.1119 - accuracy: 0.9617\n",
      "Epoch 10/10\n",
      "34/34 [==============================] - 57s 2s/step - loss: 0.0516 - accuracy: 0.9772\n"
     ]
    }
   ],
   "source": [
    "history = model.fit(X_train, Y_train, epochs = 10, batch_size = 32)"
   ]
  },
  {
   "cell_type": "code",
   "execution_count": 11,
   "id": "ec3b1a58",
   "metadata": {},
   "outputs": [
    {
     "name": "stdout",
     "output_type": "stream",
     "text": [
      "4/4 [==============================] - 1s 190ms/step - loss: 3.5049 - accuracy: 0.3000\n"
     ]
    }
   ],
   "source": [
    "preds = model.evaluate(X_test, Y_test)"
   ]
  },
  {
   "cell_type": "code",
   "execution_count": null,
   "id": "12206c34",
   "metadata": {},
   "outputs": [],
   "source": []
  }
 ],
 "metadata": {
  "kernelspec": {
   "display_name": "Python 3",
   "language": "python",
   "name": "python3"
  },
  "language_info": {
   "codemirror_mode": {
    "name": "ipython",
    "version": 3
   },
   "file_extension": ".py",
   "mimetype": "text/x-python",
   "name": "python",
   "nbconvert_exporter": "python",
   "pygments_lexer": "ipython3",
   "version": "3.8.8"
  }
 },
 "nbformat": 4,
 "nbformat_minor": 5
}
